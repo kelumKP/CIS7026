{
 "cells": [
  {
   "cell_type": "code",
   "execution_count": 3,
   "metadata": {},
   "outputs": [
    {
     "data": {
      "image/png": "[encoded data removed]",
      "text/plain": [
       "<Figure size 432x288 with 1 Axes>"
      ]
     },
     "metadata": {
      "needs_background": "light"
     },
     "output_type": "display_data"
    },
    {
     "name": "stdout",
     "output_type": "stream",
     "text": [
      "               Tenure                         Salary                       \n",
      "                 mean median       std          mean   median           std\n",
      "Department                                                                 \n",
      "Engineering  3.566667   3.40  1.556706  83333.333333  80000.0  10408.329997\n",
      "Finance      2.933333   2.80  1.504438  71666.666667  70000.0  12583.057392\n",
      "Marketing    1.850000   1.85  1.909188  72500.000000  72500.0  38890.872965\n",
      "Sales        2.500000   2.50  2.404163  85000.000000  85000.0  49497.474683\n"
     ]
    }
   ],
   "source": [
    "#Organizational mining\n",
    "\n",
    "import pandas as pd\n",
    "import matplotlib.pyplot as plt\n",
    "\n",
    "# Load employee data\n",
    "employee_data = pd.read_csv('employee_data.csv')\n",
    "\n",
    "# Calculate average employee tenure\n",
    "avg_tenure = employee_data['Tenure'].mean()\n",
    "\n",
    "# Calculate employee turnover rate\n",
    "turnover_rate = employee_data['Termination Date'].notnull().sum() / len(employee_data)\n",
    "\n",
    "# Plot employee tenure distribution\n",
    "plt.hist(employee_data['Tenure'], bins=20)\n",
    "plt.xlabel('Tenure (years)')\n",
    "plt.ylabel('Number of employees')\n",
    "plt.title('Employee Tenure Distribution')\n",
    "plt.show()\n",
    "\n",
    "# Identify top-performing employees\n",
    "top_performers = employee_data[employee_data['Performance Rating'] >= 4]\n",
    "# Identify areas for improvement\n",
    "areas_for_improvement = employee_data[employee_data['Performance Rating'] <= 2]\n",
    "\n",
    "# Generate summary statistics by department\n",
    "department_stats = employee_data.groupby('Department').agg({\n",
    "    'Tenure': ['mean', 'median', 'std'],\n",
    "    'Salary': ['mean', 'median', 'std']\n",
    "})\n",
    "print(department_stats)"
   ]
  },
  {
   "cell_type": "code",
   "execution_count": 4,
   "metadata": {},
   "outputs": [
    {
     "data": {
      "image/png": "[encoded data removed]",
      "text/plain": [
       "<Figure size 432x288 with 1 Axes>"
      ]
     },
     "metadata": {
      "needs_background": "light"
     },
     "output_type": "display_data"
    }
   ],
   "source": [
    "#Bottleneck analysis\n",
    "import pandas as pd\n",
    "\n",
    "# Read in the data\n",
    "data = pd.read_csv(\"manufacturing_process.csv\")\n",
    "\n",
    "# Group the data by the bottleneck variable\n",
    "grouped_data = data.groupby(\"bottleneck_variable\")\n",
    "\n",
    "# Calculate the mean and standard deviation of the time variable for each group\n",
    "mean_time = grouped_data[\"time_variable\"].mean()\n",
    "std_time = grouped_data[\"time_variable\"].std()\n",
    "\n",
    "# Plot the results\n",
    "import matplotlib.pyplot as plt\n",
    "\n",
    "plt.errorbar(mean_time.index, mean_time, yerr=std_time, fmt='o')\n",
    "plt.xlabel(\"Bottleneck Variable\")\n",
    "plt.ylabel(\"Time Variable\")\n",
    "plt.title(\"Bottleneck Analysis\")\n",
    "plt.show()"
   ]
  }
 ],
 "metadata": {
  "kernelspec": {
   "display_name": "Python 3",
   "language": "python",
   "name": "python3"
  },
  "language_info": {
   "codemirror_mode": {
    "name": "ipython",
    "version": 3
   },
   "file_extension": ".py",
   "mimetype": "text/x-python",
   "name": "python",
   "nbconvert_exporter": "python",
   "pygments_lexer": "ipython3",
   "version": "3.10.5"
  },
  "orig_nbformat": 4,
  "vscode": {
   "interpreter": {
    "hash": "aee8b7b246df8f9039afb4144a1f6fd8d2ca17a180786b69acc140d282b71a49"
   }
  }
 },
 "nbformat": 4,
 "nbformat_minor": 2
}
