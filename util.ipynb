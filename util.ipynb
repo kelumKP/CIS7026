{
 "cells": [
  {
   "cell_type": "code",
   "execution_count": 2,
   "metadata": {},
   "outputs": [
    {
     "name": "stdout",
     "output_type": "stream",
     "text": [
      "     step  duration  start_time  end_time  completion_time  waiting_time\n",
      "0  Step 1         5           0       300            300.0           0.0\n",
      "1  Step 2         3         300       480            480.0           0.0\n",
      "2  Step 3         4         540       780            780.0           0.0\n",
      "3  Step 4         2         840       960            960.0           0.0\n",
      "4  Step 5         5        1020      1320           1320.0           0.0\n"
     ]
    }
   ],
   "source": [
    "import pandas as pd\n",
    "import numpy as np\n",
    "\n",
    "data = pd.DataFrame({\n",
    "    \"step\": [\"Step 1\", \"Step 2\", \"Step 3\", \"Step 4\", \"Step 5\"],\n",
    "    \"duration\": [5, 3, 4, 2, 5],\n",
    "    \"start_time\": [0, 300, 540, 840, 1020],\n",
    "})\n",
    "\n",
    "# calculate the end time of each step\n",
    "data[\"end_time\"] = data[\"start_time\"] + data[\"duration\"] * 60\n",
    "\n",
    "# calculate the time each step takes to complete\n",
    "data[\"completion_time\"] = np.nan\n",
    "data.loc[0, \"completion_time\"] = data.loc[0, \"end_time\"]\n",
    "for i in range(1, len(data)):\n",
    "    data.loc[i, \"completion_time\"] = max(data.loc[i, \"end_time\"], data.loc[i-1, \"completion_time\"])\n",
    "\n",
    "# calculate the time each step spends waiting\n",
    "data[\"waiting_time\"] = data[\"completion_time\"] - data[\"end_time\"]\n",
    "\n",
    "print(data)\n",
    "data.to_csv('manufacturing_process.csv')"
   ]
  }
 ],
 "metadata": {
  "kernelspec": {
   "display_name": "Python 3",
   "language": "python",
   "name": "python3"
  },
  "language_info": {
   "codemirror_mode": {
    "name": "ipython",
    "version": 3
   },
   "file_extension": ".py",
   "mimetype": "text/x-python",
   "name": "python",
   "nbconvert_exporter": "python",
   "pygments_lexer": "ipython3",
   "version": "3.10.5"
  },
  "orig_nbformat": 4,
  "vscode": {
   "interpreter": {
    "hash": "aee8b7b246df8f9039afb4144a1f6fd8d2ca17a180786b69acc140d282b71a49"
   }
  }
 },
 "nbformat": 4,
 "nbformat_minor": 2
}
