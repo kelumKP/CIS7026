{
 "cells": [
  {
   "cell_type": "code",
   "execution_count": 3,
   "metadata": {},
   "outputs": [
    {
     "ename": "ImportError",
     "evalue": "cannot import name 'factory' from 'pm4py.objects.log.importer.xes' (/Library/Frameworks/Python.framework/Versions/3.10/lib/python3.10/site-packages/pm4py/objects/log/importer/xes/__init__.py)",
     "output_type": "error",
     "traceback": [
      "\u001b[0;31m---------------------------------------------------------------------------\u001b[0m",
      "\u001b[0;31mImportError\u001b[0m                               Traceback (most recent call last)",
      "\u001b[1;32m/Users/kelumrubasin/Desktop/MSC_DATA_SCIENCE/6_Business_Process_And_Data_Analytics/CIS7026_SourceCodes/CIS7026/PART_B_Conformance_Checking.ipynb Cell 2\u001b[0m in \u001b[0;36m<cell line: 2>\u001b[0;34m()\u001b[0m\n\u001b[1;32m      <a href='vscode-notebook-cell:/Users/kelumrubasin/Desktop/MSC_DATA_SCIENCE/6_Business_Process_And_Data_Analytics/CIS7026_SourceCodes/CIS7026/PART_B_Conformance_Checking.ipynb#W0sZmlsZQ%3D%3D?line=0'>1</a>\u001b[0m \u001b[39m# Import necessary libraries\u001b[39;00m\n\u001b[0;32m----> <a href='vscode-notebook-cell:/Users/kelumrubasin/Desktop/MSC_DATA_SCIENCE/6_Business_Process_And_Data_Analytics/CIS7026_SourceCodes/CIS7026/PART_B_Conformance_Checking.ipynb#W0sZmlsZQ%3D%3D?line=1'>2</a>\u001b[0m \u001b[39mfrom\u001b[39;00m \u001b[39mpm4py\u001b[39;00m\u001b[39m.\u001b[39;00m\u001b[39mobjects\u001b[39;00m\u001b[39m.\u001b[39;00m\u001b[39mlog\u001b[39;00m\u001b[39m.\u001b[39;00m\u001b[39mimporter\u001b[39;00m\u001b[39m.\u001b[39;00m\u001b[39mxes\u001b[39;00m \u001b[39mimport\u001b[39;00m factory \u001b[39mas\u001b[39;00m xes_import_factory\n\u001b[1;32m      <a href='vscode-notebook-cell:/Users/kelumrubasin/Desktop/MSC_DATA_SCIENCE/6_Business_Process_And_Data_Analytics/CIS7026_SourceCodes/CIS7026/PART_B_Conformance_Checking.ipynb#W0sZmlsZQ%3D%3D?line=2'>3</a>\u001b[0m \u001b[39mfrom\u001b[39;00m \u001b[39mpm4py\u001b[39;00m\u001b[39m.\u001b[39;00m\u001b[39malgo\u001b[39;00m\u001b[39m.\u001b[39;00m\u001b[39mconformance\u001b[39;00m\u001b[39m.\u001b[39;00m\u001b[39malignments\u001b[39;00m \u001b[39mimport\u001b[39;00m factory \u001b[39mas\u001b[39;00m align_factory\n\u001b[1;32m      <a href='vscode-notebook-cell:/Users/kelumrubasin/Desktop/MSC_DATA_SCIENCE/6_Business_Process_And_Data_Analytics/CIS7026_SourceCodes/CIS7026/PART_B_Conformance_Checking.ipynb#W0sZmlsZQ%3D%3D?line=3'>4</a>\u001b[0m \u001b[39mfrom\u001b[39;00m \u001b[39mpm4py\u001b[39;00m\u001b[39m.\u001b[39;00m\u001b[39mvisualization\u001b[39;00m\u001b[39m.\u001b[39;00m\u001b[39malignments\u001b[39;00m \u001b[39mimport\u001b[39;00m factory \u001b[39mas\u001b[39;00m vis_factory\n",
      "\u001b[0;31mImportError\u001b[0m: cannot import name 'factory' from 'pm4py.objects.log.importer.xes' (/Library/Frameworks/Python.framework/Versions/3.10/lib/python3.10/site-packages/pm4py/objects/log/importer/xes/__init__.py)"
     ]
    }
   ],
   "source": [
    "# Import necessary libraries\n",
    "from pm4py.objects.log.importer.xes import factory as xes_import_factory\n",
    "from pm4py.algo.conformance.alignments import factory as align_factory\n",
    "from pm4py.visualization.alignments import factory as vis_factory\n",
    "\n"
   ]
  },
  {
   "cell_type": "code",
   "execution_count": null,
   "metadata": {},
   "outputs": [],
   "source": [
    "# Load the event log data\n",
    "log_path = \"event_log.xes\"\n",
    "event_log = xes_import_factory.apply(log_path)\n",
    "\n",
    "# Load the process model data\n",
    "model_path = \"process_model.pnml\"\n",
    "process_model, _ = pnml_import_factory.apply(model_path)\n",
    "\n",
    "# Perform conformance checking and generate alignments\n",
    "alignments = align_factory.apply(event_log, process_model, parameters={align_factory.Variants.TOKEN_BASED.value.Parameters.MAX_REPLAY_LENGTH: 100000})\n",
    "\n",
    "# Visualize the alignments\n",
    "alignment_vis = vis_factory.apply(alignments, event_log, process_model, parameters={vis_factory.Variants.ALIGNMENT.value.Parameters.SHOW_PROGRESS_BAR: True})"
   ]
  }
 ],
 "metadata": {
  "kernelspec": {
   "display_name": "Python 3",
   "language": "python",
   "name": "python3"
  },
  "language_info": {
   "codemirror_mode": {
    "name": "ipython",
    "version": 3
   },
   "file_extension": ".py",
   "mimetype": "text/x-python",
   "name": "python",
   "nbconvert_exporter": "python",
   "pygments_lexer": "ipython3",
   "version": "3.10.5"
  },
  "orig_nbformat": 4
 },
 "nbformat": 4,
 "nbformat_minor": 2
}
