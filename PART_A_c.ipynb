{
 "cells": [
  {
   "cell_type": "code",
   "execution_count": 38,
   "metadata": {},
   "outputs": [],
   "source": [
    "# Load the iris dataset from scikit-learn library\n",
    "from sklearn.datasets import load_iris\n",
    "\n",
    "# Call the load_iris() function to load the dataset\n",
    "iris = load_iris()\n",
    "\n",
    "# Extract the feature matrix from the iris object\n",
    "X = iris.data\n",
    "\n",
    "# Extract the target variable from the iris object\n",
    "y = iris.target\n",
    "\n",
    "# The feature matrix (X) is a 2D numpy array with dimensions (150, 4)\n",
    "# where each row represents the measurements for one iris flower,\n",
    "# and each column represents a particular feature.\n",
    "\n",
    "# The target variable (y) is a 1D numpy array with dimensions (150,)\n",
    "# where each element represents the class label for the corresponding\n",
    "# iris flower in X.\n"
   ]
  },
  {
   "cell_type": "code",
   "execution_count": 39,
   "metadata": {},
   "outputs": [
    {
     "data": {
      "text/html": [
       "<style>#sk-container-id-5 {color: black;background-color: white;}#sk-container-id-5 pre{padding: 0;}#sk-container-id-5 div.sk-toggleable {background-color: white;}#sk-container-id-5 label.sk-toggleable__label {cursor: pointer;display: block;width: 100%;margin-bottom: 0;padding: 0.3em;box-sizing: border-box;text-align: center;}#sk-container-id-5 label.sk-toggleable__label-arrow:before {content: \"▸\";float: left;margin-right: 0.25em;color: #696969;}#sk-container-id-5 label.sk-toggleable__label-arrow:hover:before {color: black;}#sk-container-id-5 div.sk-estimator:hover label.sk-toggleable__label-arrow:before {color: black;}#sk-container-id-5 div.sk-toggleable__content {max-height: 0;max-width: 0;overflow: hidden;text-align: left;background-color: #f0f8ff;}#sk-container-id-5 div.sk-toggleable__content pre {margin: 0.2em;color: black;border-radius: 0.25em;background-color: #f0f8ff;}#sk-container-id-5 input.sk-toggleable__control:checked~div.sk-toggleable__content {max-height: 200px;max-width: 100%;overflow: auto;}#sk-container-id-5 input.sk-toggleable__control:checked~label.sk-toggleable__label-arrow:before {content: \"▾\";}#sk-container-id-5 div.sk-estimator input.sk-toggleable__control:checked~label.sk-toggleable__label {background-color: #d4ebff;}#sk-container-id-5 div.sk-label input.sk-toggleable__control:checked~label.sk-toggleable__label {background-color: #d4ebff;}#sk-container-id-5 input.sk-hidden--visually {border: 0;clip: rect(1px 1px 1px 1px);clip: rect(1px, 1px, 1px, 1px);height: 1px;margin: -1px;overflow: hidden;padding: 0;position: absolute;width: 1px;}#sk-container-id-5 div.sk-estimator {font-family: monospace;background-color: #f0f8ff;border: 1px dotted black;border-radius: 0.25em;box-sizing: border-box;margin-bottom: 0.5em;}#sk-container-id-5 div.sk-estimator:hover {background-color: #d4ebff;}#sk-container-id-5 div.sk-parallel-item::after {content: \"\";width: 100%;border-bottom: 1px solid gray;flex-grow: 1;}#sk-container-id-5 div.sk-label:hover label.sk-toggleable__label {background-color: #d4ebff;}#sk-container-id-5 div.sk-serial::before {content: \"\";position: absolute;border-left: 1px solid gray;box-sizing: border-box;top: 0;bottom: 0;left: 50%;z-index: 0;}#sk-container-id-5 div.sk-serial {display: flex;flex-direction: column;align-items: center;background-color: white;padding-right: 0.2em;padding-left: 0.2em;position: relative;}#sk-container-id-5 div.sk-item {position: relative;z-index: 1;}#sk-container-id-5 div.sk-parallel {display: flex;align-items: stretch;justify-content: center;background-color: white;position: relative;}#sk-container-id-5 div.sk-item::before, #sk-container-id-5 div.sk-parallel-item::before {content: \"\";position: absolute;border-left: 1px solid gray;box-sizing: border-box;top: 0;bottom: 0;left: 50%;z-index: -1;}#sk-container-id-5 div.sk-parallel-item {display: flex;flex-direction: column;z-index: 1;position: relative;background-color: white;}#sk-container-id-5 div.sk-parallel-item:first-child::after {align-self: flex-end;width: 50%;}#sk-container-id-5 div.sk-parallel-item:last-child::after {align-self: flex-start;width: 50%;}#sk-container-id-5 div.sk-parallel-item:only-child::after {width: 0;}#sk-container-id-5 div.sk-dashed-wrapped {border: 1px dashed gray;margin: 0 0.4em 0.5em 0.4em;box-sizing: border-box;padding-bottom: 0.4em;background-color: white;}#sk-container-id-5 div.sk-label label {font-family: monospace;font-weight: bold;display: inline-block;line-height: 1.2em;}#sk-container-id-5 div.sk-label-container {text-align: center;}#sk-container-id-5 div.sk-container {/* jupyter's `normalize.less` sets `[hidden] { display: none; }` but bootstrap.min.css set `[hidden] { display: none !important; }` so we also need the `!important` here to be able to override the default hidden behavior on the sphinx rendered scikit-learn.org. See: https://github.com/scikit-learn/scikit-learn/issues/21755 */display: inline-block !important;position: relative;}#sk-container-id-5 div.sk-text-repr-fallback {display: none;}</style><div id=\"sk-container-id-5\" class=\"sk-top-container\"><div class=\"sk-text-repr-fallback\"><pre>DecisionTreeClassifier()</pre><b>In a Jupyter environment, please rerun this cell to show the HTML representation or trust the notebook. <br />On GitHub, the HTML representation is unable to render, please try loading this page with nbviewer.org.</b></div><div class=\"sk-container\" hidden><div class=\"sk-item\"><div class=\"sk-estimator sk-toggleable\"><input class=\"sk-toggleable__control sk-hidden--visually\" id=\"sk-estimator-id-5\" type=\"checkbox\" checked><label for=\"sk-estimator-id-5\" class=\"sk-toggleable__label sk-toggleable__label-arrow\">DecisionTreeClassifier</label><div class=\"sk-toggleable__content\"><pre>DecisionTreeClassifier()</pre></div></div></div></div></div>"
      ],
      "text/plain": [
       "DecisionTreeClassifier()"
      ]
     },
     "execution_count": 39,
     "metadata": {},
     "output_type": "execute_result"
    }
   ],
   "source": [
    "# Import the necessary modules\n",
    "from sklearn.tree import DecisionTreeClassifier\n",
    "from sklearn.model_selection import train_test_split\n",
    "\n",
    "# Split the dataset into training and testing sets using train_test_split\n",
    "# The test_size parameter specifies the proportion of the dataset to be used for testing (20% in this case)\n",
    "# The random_state parameter ensures that the same split is generated every time the code is run\n",
    "X_train, X_test, y_train, y_test = train_test_split(X, y, test_size=0.2, random_state=42)\n",
    "\n",
    "# Create a decision tree classifier object\n",
    "dt = DecisionTreeClassifier()\n",
    "\n",
    "# Train the decision tree classifier using the training data\n",
    "dt.fit(X_train, y_train)\n"
   ]
  },
  {
   "cell_type": "code",
   "execution_count": 40,
   "metadata": {},
   "outputs": [],
   "source": [
    "# Use the trained decision tree classifier to predict the class labels for the test data\n",
    "y_pred = dt.predict(X_test)\n"
   ]
  },
  {
   "cell_type": "code",
   "execution_count": 41,
   "metadata": {},
   "outputs": [
    {
     "name": "stdout",
     "output_type": "stream",
     "text": [
      "Accuracy: 1.0\n",
      "Precision: 1.0\n",
      "Recall: 1.0\n"
     ]
    }
   ],
   "source": [
    "# Import the necessary modules for computing evaluation metrics\n",
    "from sklearn.metrics import accuracy_score, precision_score, recall_score\n",
    "\n",
    "# Compute the accuracy, precision, and recall of the decision tree classifier using the predicted and actual class labels for the test data\n",
    "print(\"Accuracy:\", accuracy_score(y_test, y_pred))\n",
    "print(\"Precision:\", precision_score(y_test, y_pred, average='macro'))\n",
    "print(\"Recall:\", recall_score(y_test, y_pred, average='macro'))\n"
   ]
  },
  {
   "cell_type": "code",
   "execution_count": 42,
   "metadata": {},
   "outputs": [],
   "source": [
    "# Import the necessary module for creating a visualization of the decision tree\n",
    "from graphviz import Digraph"
   ]
  },
  {
   "cell_type": "code",
   "execution_count": 43,
   "metadata": {},
   "outputs": [],
   "source": [
    "# Create a Digraph object to represent the decision tree\n",
    "# The comment parameter specifies a title for the decision tree visualization\n",
    "dot = Digraph(comment=\"Should I Go for a Walk?\")\n"
   ]
  },
  {
   "cell_type": "code",
   "execution_count": 44,
   "metadata": {},
   "outputs": [],
   "source": [
    "# Add nodes to the decision tree Digraph object\n",
    "# Each node represents a possible weather condition or decision to go for a walk\n",
    "# The node label is a string representing the node name\n",
    "dot.node(\"Weather\", \"Weather\")\n",
    "dot.node(\"Sunny\", \"Sunny\")\n",
    "dot.node(\"Rainy\", \"Rainy\")\n",
    "dot.node(\"Snowy\", \"Snowy\")\n",
    "dot.node(\"Warm\", \"Warm\")\n",
    "dot.node(\"Cool\", \"Cool\")\n",
    "dot.node(\"Cold\", \"Cold\")\n",
    "dot.node(\"Freezing\", \"Freezing\")\n",
    "dot.node(\"Yes\", \"Yes\")\n",
    "dot.node(\"No\", \"No\")\n"
   ]
  },
  {
   "cell_type": "code",
   "execution_count": 45,
   "metadata": {},
   "outputs": [],
   "source": [
    "# Add edges to the decision tree Digraph object\n",
    "# Each edge connects two nodes and represents a possible decision based on the weather conditions\n",
    "# The edges are specified as tuples, where the first element is the starting node and the second element is the ending node\n",
    "dot.edges([\n",
    "    (\"Weather\", \"Sunny\"),\n",
    "    (\"Weather\", \"Rainy\"),\n",
    "    (\"Weather\", \"Snowy\"),\n",
    "    (\"Sunny\", \"Warm\"),\n",
    "    (\"Sunny\", \"Cool\"),\n",
    "    (\"Rainy\", \"Cold\"),\n",
    "    (\"Snowy\", \"Freezing\"),\n",
    "    (\"Warm\", \"Yes\"),\n",
    "    (\"Cool\", \"Yes\"),\n",
    "    (\"Cold\", \"No\"),\n",
    "    (\"Freezing\", \"No\")\n",
    "])"
   ]
  },
  {
   "cell_type": "code",
   "execution_count": 46,
   "metadata": {},
   "outputs": [
    {
     "data": {
      "image/svg+xml": [
       "<?xml version=\"1.0\" encoding=\"UTF-8\" standalone=\"no\"?>\n",
       "<!DOCTYPE svg PUBLIC \"-//W3C//DTD SVG 1.1//EN\"\n",
       " \"http://www.w3.org/Graphics/SVG/1.1/DTD/svg11.dtd\">\n",
       "<!-- Generated by graphviz version 6.0.1 (20220911.1526)\n",
       " -->\n",
       "<!-- Pages: 1 -->\n",
       "<svg width=\"328pt\" height=\"260pt\"\n",
       " viewBox=\"0.00 0.00 327.74 260.00\" xmlns=\"http://www.w3.org/2000/svg\" xmlns:xlink=\"http://www.w3.org/1999/xlink\">\n",
       "<g id=\"graph0\" class=\"graph\" transform=\"scale(1 1) rotate(0) translate(4 256)\">\n",
       "<polygon fill=\"white\" stroke=\"none\" points=\"-4,4 -4,-256 323.74,-256 323.74,4 -4,4\"/>\n",
       "<!-- Weather -->\n",
       "<g id=\"node1\" class=\"node\">\n",
       "<title>Weather</title>\n",
       "<ellipse fill=\"none\" stroke=\"black\" cx=\"191.15\" cy=\"-234\" rx=\"40.09\" ry=\"18\"/>\n",
       "<text text-anchor=\"middle\" x=\"191.15\" y=\"-230.3\" font-family=\"Times,serif\" font-size=\"14.00\">Weather</text>\n",
       "</g>\n",
       "<!-- Sunny -->\n",
       "<g id=\"node2\" class=\"node\">\n",
       "<title>Sunny</title>\n",
       "<ellipse fill=\"none\" stroke=\"black\" cx=\"108.15\" cy=\"-162\" rx=\"33.29\" ry=\"18\"/>\n",
       "<text text-anchor=\"middle\" x=\"108.15\" y=\"-158.3\" font-family=\"Times,serif\" font-size=\"14.00\">Sunny</text>\n",
       "</g>\n",
       "<!-- Weather&#45;&gt;Sunny -->\n",
       "<g id=\"edge1\" class=\"edge\">\n",
       "<title>Weather&#45;&gt;Sunny</title>\n",
       "<path fill=\"none\" stroke=\"black\" d=\"M173.14,-217.81C161.37,-207.89 145.85,-194.8 132.93,-183.9\"/>\n",
       "<polygon fill=\"black\" stroke=\"black\" points=\"135.17,-181.21 125.27,-177.44 130.66,-186.56 135.17,-181.21\"/>\n",
       "</g>\n",
       "<!-- Rainy -->\n",
       "<g id=\"node3\" class=\"node\">\n",
       "<title>Rainy</title>\n",
       "<ellipse fill=\"none\" stroke=\"black\" cx=\"191.15\" cy=\"-162\" rx=\"31.7\" ry=\"18\"/>\n",
       "<text text-anchor=\"middle\" x=\"191.15\" y=\"-158.3\" font-family=\"Times,serif\" font-size=\"14.00\">Rainy</text>\n",
       "</g>\n",
       "<!-- Weather&#45;&gt;Rainy -->\n",
       "<g id=\"edge2\" class=\"edge\">\n",
       "<title>Weather&#45;&gt;Rainy</title>\n",
       "<path fill=\"none\" stroke=\"black\" d=\"M191.15,-215.7C191.15,-207.98 191.15,-198.71 191.15,-190.11\"/>\n",
       "<polygon fill=\"black\" stroke=\"black\" points=\"194.65,-190.1 191.15,-180.1 187.65,-190.1 194.65,-190.1\"/>\n",
       "</g>\n",
       "<!-- Snowy -->\n",
       "<g id=\"node4\" class=\"node\">\n",
       "<title>Snowy</title>\n",
       "<ellipse fill=\"none\" stroke=\"black\" cx=\"277.15\" cy=\"-162\" rx=\"35.19\" ry=\"18\"/>\n",
       "<text text-anchor=\"middle\" x=\"277.15\" y=\"-158.3\" font-family=\"Times,serif\" font-size=\"14.00\">Snowy</text>\n",
       "</g>\n",
       "<!-- Weather&#45;&gt;Snowy -->\n",
       "<g id=\"edge3\" class=\"edge\">\n",
       "<title>Weather&#45;&gt;Snowy</title>\n",
       "<path fill=\"none\" stroke=\"black\" d=\"M209.81,-217.81C221.92,-207.95 237.87,-194.97 251.2,-184.12\"/>\n",
       "<polygon fill=\"black\" stroke=\"black\" points=\"253.57,-186.71 259.11,-177.68 249.15,-181.28 253.57,-186.71\"/>\n",
       "</g>\n",
       "<!-- Warm -->\n",
       "<g id=\"node5\" class=\"node\">\n",
       "<title>Warm</title>\n",
       "<ellipse fill=\"none\" stroke=\"black\" cx=\"33.15\" cy=\"-90\" rx=\"33.29\" ry=\"18\"/>\n",
       "<text text-anchor=\"middle\" x=\"33.15\" y=\"-86.3\" font-family=\"Times,serif\" font-size=\"14.00\">Warm</text>\n",
       "</g>\n",
       "<!-- Sunny&#45;&gt;Warm -->\n",
       "<g id=\"edge4\" class=\"edge\">\n",
       "<title>Sunny&#45;&gt;Warm</title>\n",
       "<path fill=\"none\" stroke=\"black\" d=\"M92.24,-146.15C81.9,-136.5 68.24,-123.75 56.65,-112.94\"/>\n",
       "<polygon fill=\"black\" stroke=\"black\" points=\"58.73,-110.09 49.03,-105.82 53.95,-115.21 58.73,-110.09\"/>\n",
       "</g>\n",
       "<!-- Cool -->\n",
       "<g id=\"node6\" class=\"node\">\n",
       "<title>Cool</title>\n",
       "<ellipse fill=\"none\" stroke=\"black\" cx=\"112.15\" cy=\"-90\" rx=\"27.9\" ry=\"18\"/>\n",
       "<text text-anchor=\"middle\" x=\"112.15\" y=\"-86.3\" font-family=\"Times,serif\" font-size=\"14.00\">Cool</text>\n",
       "</g>\n",
       "<!-- Sunny&#45;&gt;Cool -->\n",
       "<g id=\"edge5\" class=\"edge\">\n",
       "<title>Sunny&#45;&gt;Cool</title>\n",
       "<path fill=\"none\" stroke=\"black\" d=\"M109.14,-143.7C109.58,-135.98 110.11,-126.71 110.6,-118.11\"/>\n",
       "<polygon fill=\"black\" stroke=\"black\" points=\"114.09,-118.29 111.17,-108.1 107.1,-117.89 114.09,-118.29\"/>\n",
       "</g>\n",
       "<!-- Cold -->\n",
       "<g id=\"node7\" class=\"node\">\n",
       "<title>Cold</title>\n",
       "<ellipse fill=\"none\" stroke=\"black\" cx=\"190.15\" cy=\"-90\" rx=\"27.9\" ry=\"18\"/>\n",
       "<text text-anchor=\"middle\" x=\"190.15\" y=\"-86.3\" font-family=\"Times,serif\" font-size=\"14.00\">Cold</text>\n",
       "</g>\n",
       "<!-- Rainy&#45;&gt;Cold -->\n",
       "<g id=\"edge6\" class=\"edge\">\n",
       "<title>Rainy&#45;&gt;Cold</title>\n",
       "<path fill=\"none\" stroke=\"black\" d=\"M190.9,-143.7C190.79,-135.98 190.66,-126.71 190.53,-118.11\"/>\n",
       "<polygon fill=\"black\" stroke=\"black\" points=\"194.03,-118.05 190.39,-108.1 187.03,-118.15 194.03,-118.05\"/>\n",
       "</g>\n",
       "<!-- Freezing -->\n",
       "<g id=\"node8\" class=\"node\">\n",
       "<title>Freezing</title>\n",
       "<ellipse fill=\"none\" stroke=\"black\" cx=\"278.15\" cy=\"-90\" rx=\"41.69\" ry=\"18\"/>\n",
       "<text text-anchor=\"middle\" x=\"278.15\" y=\"-86.3\" font-family=\"Times,serif\" font-size=\"14.00\">Freezing</text>\n",
       "</g>\n",
       "<!-- Snowy&#45;&gt;Freezing -->\n",
       "<g id=\"edge7\" class=\"edge\">\n",
       "<title>Snowy&#45;&gt;Freezing</title>\n",
       "<path fill=\"none\" stroke=\"black\" d=\"M277.39,-143.7C277.5,-135.98 277.64,-126.71 277.76,-118.11\"/>\n",
       "<polygon fill=\"black\" stroke=\"black\" points=\"281.26,-118.15 277.9,-108.1 274.26,-118.05 281.26,-118.15\"/>\n",
       "</g>\n",
       "<!-- Yes -->\n",
       "<g id=\"node9\" class=\"node\">\n",
       "<title>Yes</title>\n",
       "<ellipse fill=\"none\" stroke=\"black\" cx=\"73.15\" cy=\"-18\" rx=\"27\" ry=\"18\"/>\n",
       "<text text-anchor=\"middle\" x=\"73.15\" y=\"-14.3\" font-family=\"Times,serif\" font-size=\"14.00\">Yes</text>\n",
       "</g>\n",
       "<!-- Warm&#45;&gt;Yes -->\n",
       "<g id=\"edge8\" class=\"edge\">\n",
       "<title>Warm&#45;&gt;Yes</title>\n",
       "<path fill=\"none\" stroke=\"black\" d=\"M42.63,-72.41C47.48,-63.92 53.48,-53.41 58.88,-43.96\"/>\n",
       "<polygon fill=\"black\" stroke=\"black\" points=\"62.09,-45.41 64.01,-34.99 56.01,-41.93 62.09,-45.41\"/>\n",
       "</g>\n",
       "<!-- Cool&#45;&gt;Yes -->\n",
       "<g id=\"edge9\" class=\"edge\">\n",
       "<title>Cool&#45;&gt;Yes</title>\n",
       "<path fill=\"none\" stroke=\"black\" d=\"M103.1,-72.76C98.33,-64.19 92.37,-53.49 87.02,-43.9\"/>\n",
       "<polygon fill=\"black\" stroke=\"black\" points=\"90.07,-42.18 82.14,-35.15 83.95,-45.59 90.07,-42.18\"/>\n",
       "</g>\n",
       "<!-- No -->\n",
       "<g id=\"node10\" class=\"node\">\n",
       "<title>No</title>\n",
       "<ellipse fill=\"none\" stroke=\"black\" cx=\"234.15\" cy=\"-18\" rx=\"27\" ry=\"18\"/>\n",
       "<text text-anchor=\"middle\" x=\"234.15\" y=\"-14.3\" font-family=\"Times,serif\" font-size=\"14.00\">No</text>\n",
       "</g>\n",
       "<!-- Cold&#45;&gt;No -->\n",
       "<g id=\"edge10\" class=\"edge\">\n",
       "<title>Cold&#45;&gt;No</title>\n",
       "<path fill=\"none\" stroke=\"black\" d=\"M200.13,-73.12C205.64,-64.34 212.61,-53.26 218.8,-43.42\"/>\n",
       "<polygon fill=\"black\" stroke=\"black\" points=\"221.84,-45.15 224.2,-34.82 215.92,-41.42 221.84,-45.15\"/>\n",
       "</g>\n",
       "<!-- Freezing&#45;&gt;No -->\n",
       "<g id=\"edge11\" class=\"edge\">\n",
       "<title>Freezing&#45;&gt;No</title>\n",
       "<path fill=\"none\" stroke=\"black\" d=\"M267.72,-72.41C262.33,-63.83 255.64,-53.19 249.65,-43.67\"/>\n",
       "<polygon fill=\"black\" stroke=\"black\" points=\"252.48,-41.59 244.2,-34.99 246.56,-45.32 252.48,-41.59\"/>\n",
       "</g>\n",
       "</g>\n",
       "</svg>\n"
      ],
      "text/plain": [
       "<graphviz.graphs.Digraph at 0x146f155a0>"
      ]
     },
     "execution_count": 46,
     "metadata": {},
     "output_type": "execute_result"
    }
   ],
   "source": [
    "# Display the decision tree Digraph object using the graphviz library\n",
    "# This generates a visualization of the decision tree that can be viewed in a Jupyter notebook or saved as an image file\n",
    "dot"
   ]
  },
  {
   "cell_type": "code",
   "execution_count": null,
   "metadata": {},
   "outputs": [],
   "source": [
    "from sklearn.datasets import load_iris\n",
    "\n",
    "iris = load_iris()\n",
    "X = iris.data\n",
    "y = iris.target\n",
    "\n",
    "from sklearn.tree import DecisionTreeClassifier\n",
    "from sklearn.model_selection import train_test_split\n",
    "\n",
    "\n",
    "X_train, X_test, y_train, y_test = train_test_split(X, y, test_size=0.2, random_state=42)\n",
    "dt = DecisionTreeClassifier()\n",
    "dt.fit(X_train, y_train)\n",
    "\n",
    "y_pred = dt.predict(X_test)\n",
    "\n",
    "from sklearn.metrics import accuracy_score, precision_score, recall_score\n",
    "\n",
    "print(\"Accuracy:\", accuracy_score(y_test, y_pred))\n",
    "print(\"Precision:\", precision_score(y_test, y_pred, average='macro'))\n",
    "print(\"Recall:\", recall_score(y_test, y_pred, average='macro')) "
   ]
  },
  {
   "cell_type": "code",
   "execution_count": null,
   "metadata": {},
   "outputs": [],
   "source": [
    "from graphviz import Digraph\n",
    "\n",
    "dot = Digraph(comment=\"Should I Go for a Walk?\")\n",
    "\n",
    "dot.node(\"Weather\", \"Weather\")\n",
    "dot.node(\"Sunny\", \"Sunny\")\n",
    "dot.node(\"Rainy\", \"Rainy\")\n",
    "dot.node(\"Snowy\", \"Snowy\")\n",
    "dot.node(\"Warm\", \"Warm\")\n",
    "dot.node(\"Cool\", \"Cool\")\n",
    "dot.node(\"Cold\", \"Cold\")\n",
    "dot.node(\"Freezing\", \"Freezing\")\n",
    "dot.node(\"Yes\", \"Yes\")\n",
    "dot.node(\"No\", \"No\")\n",
    "\n",
    "dot.edges([\n",
    "    (\"Weather\", \"Sunny\"),\n",
    "    (\"Weather\", \"Rainy\"),\n",
    "    (\"Weather\", \"Snowy\"),\n",
    "    (\"Sunny\", \"Warm\"),\n",
    "    (\"Sunny\", \"Cool\"),\n",
    "    (\"Rainy\", \"Cold\"),\n",
    "    (\"Snowy\", \"Freezing\"),\n",
    "    (\"Warm\", \"Yes\"),\n",
    "    (\"Cool\", \"Yes\"),\n",
    "    (\"Cold\", \"No\"),\n",
    "    (\"Freezing\", \"No\")\n",
    "])\n",
    "\n",
    "dot "
   ]
  }
 ],
 "metadata": {
  "kernelspec": {
   "display_name": "Python 3",
   "language": "python",
   "name": "python3"
  },
  "language_info": {
   "codemirror_mode": {
    "name": "ipython",
    "version": 3
   },
   "file_extension": ".py",
   "mimetype": "text/x-python",
   "name": "python",
   "nbconvert_exporter": "python",
   "pygments_lexer": "ipython3",
   "version": "3.10.5"
  },
  "orig_nbformat": 4,
  "vscode": {
   "interpreter": {
    "hash": "aee8b7b246df8f9039afb4144a1f6fd8d2ca17a180786b69acc140d282b71a49"
   }
  }
 },
 "nbformat": 4,
 "nbformat_minor": 2
}
